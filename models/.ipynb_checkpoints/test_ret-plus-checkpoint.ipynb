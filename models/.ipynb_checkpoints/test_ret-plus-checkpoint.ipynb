{
 "cells": [
  {
   "cell_type": "code",
   "execution_count": 1,
   "id": "d4a46ae6-8821-49f0-8db0-9ab2aaa30341",
   "metadata": {},
   "outputs": [
    {
     "name": "stderr",
     "output_type": "stream",
     "text": [
      "2025-05-10 22:40:03.719892: E external/local_xla/xla/stream_executor/cuda/cuda_dnn.cc:9261] Unable to register cuDNN factory: Attempting to register factory for plugin cuDNN when one has already been registered\n",
      "2025-05-10 22:40:03.719966: E external/local_xla/xla/stream_executor/cuda/cuda_fft.cc:607] Unable to register cuFFT factory: Attempting to register factory for plugin cuFFT when one has already been registered\n",
      "2025-05-10 22:40:03.721081: E external/local_xla/xla/stream_executor/cuda/cuda_blas.cc:1515] Unable to register cuBLAS factory: Attempting to register factory for plugin cuBLAS when one has already been registered\n",
      "2025-05-10 22:40:03.728065: I tensorflow/core/platform/cpu_feature_guard.cc:182] This TensorFlow binary is optimized to use available CPU instructions in performance-critical operations.\n",
      "To enable the following instructions: AVX2 FMA, in other operations, rebuild TensorFlow with the appropriate compiler flags.\n",
      "2025-05-10 22:40:15.788120: W tensorflow/compiler/tf2tensorrt/utils/py_utils.cc:38] TF-TRT Warning: Could not find TensorRT\n",
      "2025-05-10 22:40:28.559261: W tensorflow/core/common_runtime/gpu/gpu_device.cc:2256] Cannot dlopen some GPU libraries. Please make sure the missing libraries mentioned above are installed properly if you would like to use GPU. Follow the guide at https://www.tensorflow.org/install/gpu for how to download and setup the required libraries for your platform.\n",
      "Skipping registering GPU devices...\n"
     ]
    },
    {
     "name": "stdout",
     "output_type": "stream",
     "text": [
      "WARNING: GPU device not found.\n",
      "Python version: 3.11.12\n",
      "Tensorflow bakcend version: 2.15.0\n",
      "\n",
      "\n",
      "🎯 Best threshold for retplus_weights_M5_72.pt: 0.28\n",
      "Confusion matrix:\n",
      " [[71500   125]\n",
      " [   24    80]]\n",
      "Accuracy:  0.9979\n",
      "Precision: 0.3902\n",
      "Recall:    0.7692\n",
      "F1:        0.5178\n",
      "TSS:       0.7675\n"
     ]
    }
   ],
   "source": [
    "# RET+ precision-tuned evaluation block\n",
    "\n",
    "from solarknowledge_ret_plus import RETPlusWrapper\n",
    "from utils import get_testing_data\n",
    "import numpy as np\n",
    "from sklearn.metrics import confusion_matrix, accuracy_score, precision_score, recall_score, f1_score\n",
    "\n",
    "# --- Config ---\n",
    "flare_classes = [\"M5\"]\n",
    "time_windows = [\"72\"]\n",
    "input_shape = (10, 9)\n",
    "thresholds = np.linspace(0.1, 0.9, 81)  # Fine-grained search\n",
    "min_recall = 0.75  # Optional: skip thresholds with too-low recall\n",
    "\n",
    "# --- Evaluation Loop ---\n",
    "for flare in flare_classes:\n",
    "    for time in time_windows:\n",
    "        model_path = f\"retplus_weights_{flare}_{time}.pt\"\n",
    "\n",
    "        # Load data\n",
    "        X_test, y_test = get_testing_data(time, flare)\n",
    "        y_test = np.array(y_test)\n",
    "\n",
    "        # Load model\n",
    "        model = RETPlusWrapper(input_shape)\n",
    "        model.load(model_path)\n",
    "\n",
    "        # Predict probabilities\n",
    "        probs = model.predict_proba(X_test).squeeze()\n",
    "\n",
    "        # Threshold tuning\n",
    "        best_score = -np.inf\n",
    "        best_thresh = None\n",
    "        best_metrics = {}\n",
    "\n",
    "        for t in thresholds:\n",
    "            y_pred = (probs >= t).astype(int)\n",
    "\n",
    "            cm = confusion_matrix(y_test, y_pred)\n",
    "            acc = accuracy_score(y_test, y_pred)\n",
    "            prec = precision_score(y_test, y_pred, zero_division=0)\n",
    "            rec = recall_score(y_test, y_pred, zero_division=0)\n",
    "            f1 = f1_score(y_test, y_pred, zero_division=0)\n",
    "            tss = rec + cm[0, 0] / (cm[0, 0] + cm[0, 1] + 1e-8) - 1\n",
    "\n",
    "            # Skip thresholds with very low recall\n",
    "            if rec < min_recall:\n",
    "                continue\n",
    "\n",
    "            # Precision-weighted scoring rule\n",
    "            score = 0.6 * prec + 0.2 * f1 + 0.2 * tss\n",
    "\n",
    "            if score > best_score:\n",
    "                best_score = score\n",
    "                best_thresh = t\n",
    "                best_metrics = {\n",
    "                    'confusion_matrix': cm,\n",
    "                    'accuracy': acc,\n",
    "                    'precision': prec,\n",
    "                    'recall': rec,\n",
    "                    'f1': f1,\n",
    "                    'tss': tss\n",
    "                }\n",
    "\n",
    "        # --- Print Results ---\n",
    "        print(f\"\\n🎯 Best threshold for {model_path}: {best_thresh:.2f}\")\n",
    "        print(\"Confusion matrix:\\n\", best_metrics['confusion_matrix'])\n",
    "        print(f\"Accuracy:  {best_metrics['accuracy']:.4f}\")\n",
    "        print(f\"Precision: {best_metrics['precision']:.4f}\")\n",
    "        print(f\"Recall:    {best_metrics['recall']:.4f}\")\n",
    "        print(f\"F1:        {best_metrics['f1']:.4f}\")\n",
    "        print(f\"TSS:       {best_metrics['tss']:.4f}\")"
   ]
  },
  {
   "cell_type": "code",
   "execution_count": null,
   "id": "d8001224-362c-4071-b9f2-09f94c351ab3",
   "metadata": {},
   "outputs": [],
   "source": []
  }
 ],
 "metadata": {
  "kernelspec": {
   "display_name": "EVEREST Environment",
   "language": "python",
   "name": "everest_env"
  },
  "language_info": {
   "codemirror_mode": {
    "name": "ipython",
    "version": 3
   },
   "file_extension": ".py",
   "mimetype": "text/x-python",
   "name": "python",
   "nbconvert_exporter": "python",
   "pygments_lexer": "ipython3",
   "version": "3.11.12"
  }
 },
 "nbformat": 4,
 "nbformat_minor": 5
}
