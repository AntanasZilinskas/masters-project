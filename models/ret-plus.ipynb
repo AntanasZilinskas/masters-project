{
 "cells": [
  {
   "cell_type": "code",
   "execution_count": null,
   "id": "85acd3d4-3270-46c9-a5ac-0cb075790d9f",
   "metadata": {
    "scrolled": true
   },
   "outputs": [
    {
     "name": "stderr",
     "output_type": "stream",
     "text": [
      "2025-05-14 13:43:28.529418: E external/local_xla/xla/stream_executor/cuda/cuda_dnn.cc:9261] Unable to register cuDNN factory: Attempting to register factory for plugin cuDNN when one has already been registered\n",
      "2025-05-14 13:43:28.529517: E external/local_xla/xla/stream_executor/cuda/cuda_fft.cc:607] Unable to register cuFFT factory: Attempting to register factory for plugin cuFFT when one has already been registered\n",
      "2025-05-14 13:43:28.677191: E external/local_xla/xla/stream_executor/cuda/cuda_blas.cc:1515] Unable to register cuBLAS factory: Attempting to register factory for plugin cuBLAS when one has already been registered\n",
      "2025-05-14 13:43:28.806718: I tensorflow/core/platform/cpu_feature_guard.cc:182] This TensorFlow binary is optimized to use available CPU instructions in performance-critical operations.\n",
      "To enable the following instructions: AVX2 FMA, in other operations, rebuild TensorFlow with the appropriate compiler flags.\n",
      "2025-05-14 13:43:42.761834: W tensorflow/compiler/tf2tensorrt/utils/py_utils.cc:38] TF-TRT Warning: Could not find TensorRT\n",
      "2025-05-14 13:43:57.013966: W tensorflow/core/common_runtime/gpu/gpu_device.cc:2256] Cannot dlopen some GPU libraries. Please make sure the missing libraries mentioned above are installed properly if you would like to use GPU. Follow the guide at https://www.tensorflow.org/install/gpu for how to download and setup the required libraries for your platform.\n",
      "Skipping registering GPU devices...\n"
     ]
    },
    {
     "name": "stdout",
     "output_type": "stream",
     "text": [
      "WARNING: GPU device not found.\n",
      "Python version: 3.11.12\n",
      "Tensorflow bakcend version: 2.15.0\n",
      "\n",
      "🚀 Training model for flare class C with 24h window\n",
      "Epoch 1/300 - loss: 0.0009 - acc: 0.6948 - tss: 0.3905 - gamma: 0.00\n"
     ]
    }
   ],
   "source": [
    "# Training RET+ Models for Solar Flare Prediction (M5 × 72)\n",
    "\n",
    "from solarknowledge_ret_plus import RETPlusWrapper\n",
    "from utils import get_training_data\n",
    "import numpy as np\n",
    "\n",
    "# --- Configuration ---\n",
    "flare_classes = [\"C\", \"M\", \"M5\"]         # Only M5 for now, \"C\", \"M\", \"M5\"\n",
    "time_windows = [\"24\", \"48\", \"72\"]          # 72-hour window, \"24\", \"48\", \"72\"\n",
    "input_shape = (10, 9)\n",
    "epochs = 300\n",
    "batch_size = 512\n",
    "\n",
    "# --- Loop over class × horizon ---\n",
    "for flare_class in flare_classes:\n",
    "    for time_window in time_windows:\n",
    "        print(f\"🚀 Training model for flare class {flare_class} with {time_window}h window\")\n",
    "\n",
    "        # Load & prepare training data\n",
    "        X_train, y_train = get_training_data(time_window, flare_class)\n",
    "\n",
    "        # Initialize wrapper and train (this will early-stop, save best weights + metadata, and return the model dir)\n",
    "        model = RETPlusWrapper(input_shape)\n",
    "        model_dir = model.train(\n",
    "            X_train,\n",
    "            y_train,\n",
    "            epochs=epochs,\n",
    "            batch_size=batch_size,\n",
    "            flare_class=flare_class,\n",
    "            time_window=time_window\n",
    "        )\n",
    "\n",
    "        # Report where everything landed\n",
    "        print(f\"✅ Best weights and metadata stored in: {model_dir}\")\n",
    "        print(\"-\" * 60)"
   ]
  },
  {
   "cell_type": "code",
   "execution_count": null,
   "id": "2382e69c-4ef5-4295-ad4d-85ee51281e24",
   "metadata": {},
   "outputs": [],
   "source": [
    "# RET+ testing block\n",
    "\n",
    "from solarknowledge_ret_plus import RETPlusWrapper\n",
    "from utils import get_testing_data\n",
    "import numpy as np\n",
    "from sklearn.metrics import confusion_matrix, accuracy_score, precision_score, recall_score\n",
    "\n",
    "# Config\n",
    "flare_class = \"M5\"\n",
    "time_window = \"72\"\n",
    "input_shape = (10, 9)\n",
    "model_path = f\"retplus_weights_{flare_class}_{time_window}.pt\"\n",
    "mc_passes = 30\n",
    "threshold = 0.5\n",
    "\n",
    "# Load test data\n",
    "X_test, y_test = get_testing_data(time_window, flare_class)\n",
    "y_test = np.array(y_test)\n",
    "\n",
    "# Load model\n",
    "model = RETPlusWrapper(input_shape)\n",
    "model.load(model_path)\n",
    "\n",
    "# MC prediction\n",
    "probs = model.predict_proba(X_test)\n",
    "y_pred = (probs >= threshold).astype(int).squeeze()\n",
    "\n",
    "# Metrics\n",
    "cm = confusion_matrix(y_test, y_pred)\n",
    "acc = accuracy_score(y_test, y_pred)\n",
    "prec = precision_score(y_test, y_pred)\n",
    "rec = recall_score(y_test, y_pred)\n",
    "tss = rec + cm[0,0] / (cm[0,0] + cm[0,1] + 1e-8) - 1\n",
    "\n",
    "print(\"Confusion matrix:\\n\", cm)\n",
    "print(f\"Accuracy:  {acc:.4f}\")\n",
    "print(f\"Precision: {prec:.4f}\")\n",
    "print(f\"Recall:    {rec:.4f}\")\n",
    "print(f\"TSS:       {tss:.4f}\")"
   ]
  },
  {
   "cell_type": "code",
   "execution_count": null,
   "id": "30dbd96f-4661-46d8-af7f-fcb80cbf90ff",
   "metadata": {},
   "outputs": [],
   "source": []
  }
 ],
 "metadata": {
  "kernelspec": {
   "display_name": "EVEREST Environment",
   "language": "python",
   "name": "everest_env"
  },
  "language_info": {
   "codemirror_mode": {
    "name": "ipython",
    "version": 3
   },
   "file_extension": ".py",
   "mimetype": "text/x-python",
   "name": "python",
   "nbconvert_exporter": "python",
   "pygments_lexer": "ipython3",
   "version": "3.11.12"
  }
 },
 "nbformat": 4,
 "nbformat_minor": 5
}
