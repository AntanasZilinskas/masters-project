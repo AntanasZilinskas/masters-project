{
 "cells": [
  {
   "cell_type": "code",
   "execution_count": 1,
   "id": "12bfb444-97fb-4bfa-a42f-daa7ddb4b5a9",
   "metadata": {},
   "outputs": [
    {
     "name": "stderr",
     "output_type": "stream",
     "text": [
      "2025-05-13 23:52:42.541631: E external/local_xla/xla/stream_executor/cuda/cuda_dnn.cc:9261] Unable to register cuDNN factory: Attempting to register factory for plugin cuDNN when one has already been registered\n",
      "2025-05-13 23:52:42.541691: E external/local_xla/xla/stream_executor/cuda/cuda_fft.cc:607] Unable to register cuFFT factory: Attempting to register factory for plugin cuFFT when one has already been registered\n",
      "2025-05-13 23:52:42.874304: E external/local_xla/xla/stream_executor/cuda/cuda_blas.cc:1515] Unable to register cuBLAS factory: Attempting to register factory for plugin cuBLAS when one has already been registered\n",
      "2025-05-13 23:52:43.015949: I tensorflow/core/platform/cpu_feature_guard.cc:182] This TensorFlow binary is optimized to use available CPU instructions in performance-critical operations.\n",
      "To enable the following instructions: AVX2 FMA, in other operations, rebuild TensorFlow with the appropriate compiler flags.\n",
      "2025-05-13 23:52:56.928035: W tensorflow/compiler/tf2tensorrt/utils/py_utils.cc:38] TF-TRT Warning: Could not find TensorRT\n",
      "2025-05-13 23:53:13.891510: W tensorflow/core/common_runtime/gpu/gpu_device.cc:2256] Cannot dlopen some GPU libraries. Please make sure the missing libraries mentioned above are installed properly if you would like to use GPU. Follow the guide at https://www.tensorflow.org/install/gpu for how to download and setup the required libraries for your platform.\n",
      "Skipping registering GPU devices...\n"
     ]
    },
    {
     "name": "stdout",
     "output_type": "stream",
     "text": [
      "WARNING: GPU device not found.\n",
      "Python version: 3.11.12\n",
      "Tensorflow bakcend version: 2.15.0\n",
      "\n",
      "Flare | Horizon | Split   | Positives  | Negatives \n",
      "-------------------------------------------------------\n",
      "C     | 24     | Train   | 219585     | 186999    \n",
      "C     | 24     | Test    | 29058      | 13769     \n",
      "C     | 48     | Train   | 278463     | 249874    \n",
      "C     | 48     | Test    | 36203      | 18268     \n",
      "C     | 72     | Train   | 308924     | 283180    \n",
      "C     | 72     | Test    | 39873      | 21255     \n",
      "M     | 24     | Train   | 27978      | 449196    \n",
      "M     | 24     | Test    | 1368       | 46407     \n",
      "M     | 48     | Train   | 33418      | 601154    \n",
      "M     | 48     | Test    | 1775       | 60785     \n",
      "M     | 72     | Train   | 37010      | 688567    \n",
      "M     | 72     | Test    | 2131       | 69598     \n",
      "M5    | 24     | Train   | 4250       | 461060    \n",
      "M5    | 24     | Test    | 104        | 47671     \n",
      "M5    | 48     | Train   | 4510       | 615608    \n",
      "M5    | 48     | Test    | 104        | 62456     \n",
      "M5    | 72     | Train   | 4750       | 704697    \n",
      "M5    | 72     | Test    | 104        | 71625     \n"
     ]
    }
   ],
   "source": [
    "from utils import get_training_data, get_testing_data\n",
    "import numpy as np\n",
    "\n",
    "flare_classes = [\"C\", \"M\", \"M5\"]\n",
    "time_windows = [\"24\", \"48\", \"72\"]\n",
    "\n",
    "def count_pos_neg(y):\n",
    "    y = np.array(y)\n",
    "    positives = np.sum(y == 1)\n",
    "    negatives = np.sum(y == 0)\n",
    "    return positives, negatives\n",
    "\n",
    "print(f\"{'Flare':<5} | {'Horizon':<6} | {'Split':<7} | {'Positives':<10} | {'Negatives':<10}\")\n",
    "print(\"-\" * 55)\n",
    "\n",
    "for flare_class in flare_classes:\n",
    "    for time_window in time_windows:\n",
    "        # Training split\n",
    "        X_train, y_train = get_training_data(time_window, flare_class)\n",
    "        p_train, n_train = count_pos_neg(y_train)\n",
    "\n",
    "        # Testing split\n",
    "        X_test, y_test = get_testing_data(time_window, flare_class)\n",
    "        p_test, n_test = count_pos_neg(y_test)\n",
    "\n",
    "        print(f\"{flare_class:<5} | {time_window:<6} | {'Train':<7} | {p_train:<10} | {n_train:<10}\")\n",
    "        print(f\"{flare_class:<5} | {time_window:<6} | {'Test':<7} | {p_test:<10} | {n_test:<10}\")"
   ]
  },
  {
   "cell_type": "code",
   "execution_count": null,
   "id": "96e5f0d9-86f3-49a7-9aaf-ea6cfd11581e",
   "metadata": {},
   "outputs": [],
   "source": []
  }
 ],
 "metadata": {
  "kernelspec": {
   "display_name": "EVEREST Environment",
   "language": "python",
   "name": "everest_env"
  },
  "language_info": {
   "codemirror_mode": {
    "name": "ipython",
    "version": 3
   },
   "file_extension": ".py",
   "mimetype": "text/x-python",
   "name": "python",
   "nbconvert_exporter": "python",
   "pygments_lexer": "ipython3",
   "version": "3.11.12"
  }
 },
 "nbformat": 4,
 "nbformat_minor": 5
}
