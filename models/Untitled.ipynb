{
 "cells": [
  {
   "cell_type": "code",
   "execution_count": 2,
   "id": "91cb516d-00d8-48c1-8e93-c199758338b0",
   "metadata": {},
   "outputs": [
    {
     "name": "stdout",
     "output_type": "stream",
     "text": [
      "Representative attention maps:\n"
     ]
    }
   ],
   "source": [
    "import re, glob\n",
    "import numpy as np\n",
    "\n",
    "# 1) grab all the attention plots\n",
    "files = glob.glob(\"attention_plots/*.png\")\n",
    "\n",
    "# 2) regex to pull out category (TP/TN/FP/FN) and prob\n",
    "pat = re.compile(r\".*_(TP|TN|FP|FN)_\\d+_true=\\d\\?_prob=(0\\.\\d+)\\.png\")\n",
    "\n",
    "bucket = {\"TP\": [], \"TN\": [], \"FP\": [], \"FN\": []}\n",
    "for f in files:\n",
    "    m = pat.match(f)\n",
    "    if not m: continue\n",
    "    cat, p = m.group(1), float(m.group(2))\n",
    "    bucket[cat].append((f, p))\n",
    "\n",
    "# 3) pick the one nearest to the median\n",
    "picked = {}\n",
    "for cat, lst in bucket.items():\n",
    "    if not lst: continue\n",
    "    probs = np.array([p for (_, p) in lst])\n",
    "    med = np.median(probs)\n",
    "    # find file with minimal |p - med|\n",
    "    best = min(lst, key=lambda x: abs(x[1] - med))\n",
    "    picked[cat] = best[0]\n",
    "\n",
    "print(\"Representative attention maps:\")\n",
    "for cat, fn in picked.items():\n",
    "    print(f\"  {cat}: {fn}\")\n"
   ]
  },
  {
   "cell_type": "code",
   "execution_count": null,
   "id": "8a4a37b7-071f-4c92-940a-cd5a9891fc2b",
   "metadata": {},
   "outputs": [],
   "source": []
  }
 ],
 "metadata": {
  "kernelspec": {
   "display_name": "Python 3 (ipykernel)",
   "language": "python",
   "name": "python3"
  },
  "language_info": {
   "codemirror_mode": {
    "name": "ipython",
    "version": 3
   },
   "file_extension": ".py",
   "mimetype": "text/x-python",
   "name": "python",
   "nbconvert_exporter": "python",
   "pygments_lexer": "ipython3",
   "version": "3.11.2"
  }
 },
 "nbformat": 4,
 "nbformat_minor": 5
}
